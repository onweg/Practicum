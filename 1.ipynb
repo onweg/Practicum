{
 "cells": [
  {
   "cell_type": "code",
   "execution_count": null,
   "id": "a5d7f866-34a6-46fb-b8f9-68b267218b71",
   "metadata": {},
   "outputs": [
    {
     "name": "stdin",
     "output_type": "stream",
     "text": [
      "1. Введите число: 1234\n"
     ]
    },
    {
     "name": "stdout",
     "output_type": "stream",
     "text": [
      "Быков:2\n",
      "Коров:0\n",
      "\n"
     ]
    },
    {
     "name": "stdin",
     "output_type": "stream",
     "text": [
      "2. Введите число: ывмымв\n"
     ]
    },
    {
     "name": "stdout",
     "output_type": "stream",
     "text": [
      "Неправильный формат! Напишите 4 различные цифры, которые я загадал\n"
     ]
    },
    {
     "name": "stdin",
     "output_type": "stream",
     "text": [
      "2. Введите число: 1241234\n"
     ]
    },
    {
     "name": "stdout",
     "output_type": "stream",
     "text": [
      "Неправильный формат! Напишите 4 различные цифры, которые я загадал\n"
     ]
    },
    {
     "name": "stdin",
     "output_type": "stream",
     "text": [
      "2. Введите число: 5678\n"
     ]
    },
    {
     "name": "stdout",
     "output_type": "stream",
     "text": [
      "Быков:0\n",
      "Коров:1\n",
      "\n"
     ]
    }
   ],
   "source": [
    "import random \n",
    "\n",
    "def check_num(number):\n",
    "    if len(number) != 4:\n",
    "        return 0\n",
    "    for i in number:\n",
    "        if i not in \"1234567890\":\n",
    "            return 0\n",
    "    return 1\n",
    "\n",
    "number = random.sample(['1', '2', '3', '4', '5', '6', '7', '8', '9', '0'], 4)\n",
    "counter = 1\n",
    "player = \"\"\n",
    "\n",
    "\n",
    "\n",
    "while player != \"\".join(number) and player != \"exit\":\n",
    "    \n",
    "    player = input(f\"{counter}. Введите число:\")\n",
    "    if check_num(player):\n",
    "        bull = 0\n",
    "        cow = 0\n",
    "\n",
    "        for i in player:\n",
    "            if i in number:\n",
    "                cow += 1\n",
    "\n",
    "        for i in range(4):\n",
    "            if player[i] == number[i]:\n",
    "                bull += 1\n",
    "                cow -= 1\n",
    "\n",
    "        print(f\"Быков:{bull}\\nКоров:{cow}\\n\")\n",
    "        counter+=1\n",
    "        \n",
    "    elif player != \"exit\":\n",
    "        print(\"Неправильный формат! Напишите 4 различные цифры, которые я загадал\")\n",
    "\n",
    "if player == \"\".join(number):\n",
    "    print(\"Вы победили, поздравляю!\")\n",
    "\n",
    "        \n",
    "    \n",
    "\n",
    "\n"
   ]
  },
  {
   "cell_type": "code",
   "execution_count": null,
   "id": "67fe674a-e89c-4584-aaea-d56380ec2404",
   "metadata": {},
   "outputs": [],
   "source": []
  }
 ],
 "metadata": {
  "kernelspec": {
   "display_name": "Python 3 (ipykernel)",
   "language": "python",
   "name": "python3"
  },
  "language_info": {
   "codemirror_mode": {
    "name": "ipython",
    "version": 3
   },
   "file_extension": ".py",
   "mimetype": "text/x-python",
   "name": "python",
   "nbconvert_exporter": "python",
   "pygments_lexer": "ipython3",
   "version": "3.11.7"
  }
 },
 "nbformat": 4,
 "nbformat_minor": 5
}
